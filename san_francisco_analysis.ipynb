{
 "cells": [
  {
   "cell_type": "code",
   "execution_count": 6,
   "id": "fed5f2d7",
   "metadata": {},
   "outputs": [
    {
     "name": "stdout",
     "output_type": "stream",
     "text": [
      "   Unnamed: 0             datetime  humidity  pressure  temperature  \\\n",
      "0           0  2012-10-01 12:00:00      88.0    1009.0   289.480000   \n",
      "1           1  2012-10-01 13:00:00      88.0    1009.0   289.480000   \n",
      "2           2  2012-10-01 14:00:00      87.0    1009.0   289.474993   \n",
      "\n",
      "  weather_description  wind_direction  wind_speed  hour  day  week  month  \n",
      "0          light rain           150.0         2.0    12    1    40     10  \n",
      "1          light rain           150.0         2.0    13    1    40     10  \n",
      "2        sky is clear           147.0         2.0    14    1    40     10  \n"
     ]
    }
   ],
   "source": [
    "import pandas as pd\n",
    "import matplotlib.pyplot as plt\n",
    "import seaborn as sns\n",
    "\n",
    "city_df = pd.read_csv('san_francisco.csv')\n",
    "print(city_df.head(3))"
   ]
  },
  {
   "cell_type": "markdown",
   "id": "aefe2639",
   "metadata": {},
   "source": [
    "# General data summary"
   ]
  },
  {
   "cell_type": "code",
   "execution_count": 7,
   "id": "5d116285",
   "metadata": {},
   "outputs": [
    {
     "data": {
      "text/html": [
       "<div>\n",
       "<style scoped>\n",
       "    .dataframe tbody tr th:only-of-type {\n",
       "        vertical-align: middle;\n",
       "    }\n",
       "\n",
       "    .dataframe tbody tr th {\n",
       "        vertical-align: top;\n",
       "    }\n",
       "\n",
       "    .dataframe thead th {\n",
       "        text-align: right;\n",
       "    }\n",
       "</style>\n",
       "<table border=\"1\" class=\"dataframe\">\n",
       "  <thead>\n",
       "    <tr style=\"text-align: right;\">\n",
       "      <th></th>\n",
       "      <th>Unnamed: 0</th>\n",
       "      <th>humidity</th>\n",
       "      <th>pressure</th>\n",
       "      <th>temperature</th>\n",
       "      <th>wind_direction</th>\n",
       "      <th>wind_speed</th>\n",
       "      <th>hour</th>\n",
       "      <th>day</th>\n",
       "      <th>week</th>\n",
       "      <th>month</th>\n",
       "    </tr>\n",
       "  </thead>\n",
       "  <tbody>\n",
       "    <tr>\n",
       "      <th>count</th>\n",
       "      <td>45253.000000</td>\n",
       "      <td>44461.000000</td>\n",
       "      <td>44461.000000</td>\n",
       "      <td>44461.000000</td>\n",
       "      <td>44461.000000</td>\n",
       "      <td>44461.000000</td>\n",
       "      <td>45253.000000</td>\n",
       "      <td>45253.000000</td>\n",
       "      <td>45253.000000</td>\n",
       "      <td>45253.000000</td>\n",
       "    </tr>\n",
       "    <tr>\n",
       "      <th>mean</th>\n",
       "      <td>22626.000000</td>\n",
       "      <td>76.837498</td>\n",
       "      <td>1018.841547</td>\n",
       "      <td>288.155850</td>\n",
       "      <td>209.299296</td>\n",
       "      <td>2.786757</td>\n",
       "      <td>11.501337</td>\n",
       "      <td>15.725322</td>\n",
       "      <td>27.134378</td>\n",
       "      <td>6.648730</td>\n",
       "    </tr>\n",
       "    <tr>\n",
       "      <th>std</th>\n",
       "      <td>13063.560203</td>\n",
       "      <td>17.428204</td>\n",
       "      <td>7.334438</td>\n",
       "      <td>5.332806</td>\n",
       "      <td>95.587621</td>\n",
       "      <td>2.284013</td>\n",
       "      <td>6.922398</td>\n",
       "      <td>8.793919</td>\n",
       "      <td>15.134942</td>\n",
       "      <td>3.464906</td>\n",
       "    </tr>\n",
       "    <tr>\n",
       "      <th>min</th>\n",
       "      <td>0.000000</td>\n",
       "      <td>6.000000</td>\n",
       "      <td>985.000000</td>\n",
       "      <td>272.300000</td>\n",
       "      <td>0.000000</td>\n",
       "      <td>0.000000</td>\n",
       "      <td>0.000000</td>\n",
       "      <td>1.000000</td>\n",
       "      <td>1.000000</td>\n",
       "      <td>1.000000</td>\n",
       "    </tr>\n",
       "    <tr>\n",
       "      <th>25%</th>\n",
       "      <td>11313.000000</td>\n",
       "      <td>68.000000</td>\n",
       "      <td>1014.000000</td>\n",
       "      <td>284.670000</td>\n",
       "      <td>160.000000</td>\n",
       "      <td>1.000000</td>\n",
       "      <td>6.000000</td>\n",
       "      <td>8.000000</td>\n",
       "      <td>14.000000</td>\n",
       "      <td>4.000000</td>\n",
       "    </tr>\n",
       "    <tr>\n",
       "      <th>50%</th>\n",
       "      <td>22626.000000</td>\n",
       "      <td>81.000000</td>\n",
       "      <td>1018.000000</td>\n",
       "      <td>287.610000</td>\n",
       "      <td>232.000000</td>\n",
       "      <td>2.000000</td>\n",
       "      <td>12.000000</td>\n",
       "      <td>16.000000</td>\n",
       "      <td>27.000000</td>\n",
       "      <td>7.000000</td>\n",
       "    </tr>\n",
       "    <tr>\n",
       "      <th>75%</th>\n",
       "      <td>33939.000000</td>\n",
       "      <td>89.000000</td>\n",
       "      <td>1023.000000</td>\n",
       "      <td>291.014667</td>\n",
       "      <td>280.000000</td>\n",
       "      <td>4.000000</td>\n",
       "      <td>18.000000</td>\n",
       "      <td>23.000000</td>\n",
       "      <td>41.000000</td>\n",
       "      <td>10.000000</td>\n",
       "    </tr>\n",
       "    <tr>\n",
       "      <th>max</th>\n",
       "      <td>45252.000000</td>\n",
       "      <td>100.000000</td>\n",
       "      <td>1044.000000</td>\n",
       "      <td>313.620000</td>\n",
       "      <td>360.000000</td>\n",
       "      <td>43.000000</td>\n",
       "      <td>23.000000</td>\n",
       "      <td>31.000000</td>\n",
       "      <td>53.000000</td>\n",
       "      <td>12.000000</td>\n",
       "    </tr>\n",
       "  </tbody>\n",
       "</table>\n",
       "</div>"
      ],
      "text/plain": [
       "         Unnamed: 0      humidity      pressure   temperature  wind_direction  \\\n",
       "count  45253.000000  44461.000000  44461.000000  44461.000000    44461.000000   \n",
       "mean   22626.000000     76.837498   1018.841547    288.155850      209.299296   \n",
       "std    13063.560203     17.428204      7.334438      5.332806       95.587621   \n",
       "min        0.000000      6.000000    985.000000    272.300000        0.000000   \n",
       "25%    11313.000000     68.000000   1014.000000    284.670000      160.000000   \n",
       "50%    22626.000000     81.000000   1018.000000    287.610000      232.000000   \n",
       "75%    33939.000000     89.000000   1023.000000    291.014667      280.000000   \n",
       "max    45252.000000    100.000000   1044.000000    313.620000      360.000000   \n",
       "\n",
       "         wind_speed          hour           day          week         month  \n",
       "count  44461.000000  45253.000000  45253.000000  45253.000000  45253.000000  \n",
       "mean       2.786757     11.501337     15.725322     27.134378      6.648730  \n",
       "std        2.284013      6.922398      8.793919     15.134942      3.464906  \n",
       "min        0.000000      0.000000      1.000000      1.000000      1.000000  \n",
       "25%        1.000000      6.000000      8.000000     14.000000      4.000000  \n",
       "50%        2.000000     12.000000     16.000000     27.000000      7.000000  \n",
       "75%        4.000000     18.000000     23.000000     41.000000     10.000000  \n",
       "max       43.000000     23.000000     31.000000     53.000000     12.000000  "
      ]
     },
     "execution_count": 7,
     "metadata": {},
     "output_type": "execute_result"
    }
   ],
   "source": [
    "city_df.describe()"
   ]
  },
  {
   "cell_type": "markdown",
   "id": "5a323aef",
   "metadata": {},
   "source": [
    "# Average values experienced each month\n"
   ]
  },
  {
   "cell_type": "code",
   "execution_count": 8,
   "id": "0bc38599",
   "metadata": {},
   "outputs": [
    {
     "name": "stdout",
     "output_type": "stream",
     "text": [
      "         Unnamed: 0   humidity     pressure  temperature  wind_direction  \\\n",
      "month                                                                      \n",
      "1      20092.300000  76.240054  1022.873925   283.456387      170.210215   \n",
      "2      20864.861702  78.402187  1021.200946   284.987995      188.799350   \n",
      "3      21513.100000  76.294624  1020.950538   286.431086      202.795699   \n",
      "4      22245.100000  71.332222  1019.478611   287.459154      223.583611   \n",
      "5      22977.100000  77.337097  1017.510753   288.991685      222.080645   \n",
      "6      23709.100000  79.966944  1016.013056   291.006091      217.926667   \n",
      "7      24441.100000  77.872581  1013.974194   292.621702      224.365054   \n",
      "8      25185.100000  80.566129  1015.754839   292.010339      232.772581   \n",
      "9      25917.100000  75.418056  1015.561389   292.117253      229.095278   \n",
      "10     22327.537736  75.614643  1019.135185   289.323956      214.515492   \n",
      "11     22880.327670  76.632222  1022.024444   285.933779      197.691944   \n",
      "12     19348.300000  76.594892  1021.709677   283.170202      186.013441   \n",
      "\n",
      "       wind_speed       hour        day       week  \n",
      "month                                               \n",
      "1        2.350000  11.500000  16.000000   4.129032  \n",
      "2        3.190603  11.500000  14.602837   7.000000  \n",
      "3        3.139516  11.500000  16.000000  11.225806  \n",
      "4        3.814722  11.500000  15.500000  15.586667  \n",
      "5        3.398925  11.500000  16.000000  19.941935  \n",
      "6        2.238611  11.500000  15.500000  24.300000  \n",
      "7        2.828763  11.500000  16.000000  28.658065  \n",
      "8        2.554570  11.500000  16.000000  33.083871  \n",
      "9        2.623333  11.500000  15.500000  37.446667  \n",
      "10       2.295616  11.516173  16.040431  41.795148  \n",
      "11       2.327222  11.497324  15.422388  46.128927  \n",
      "12       2.795161  11.500000  16.000000  48.535484  \n"
     ]
    }
   ],
   "source": [
    "monthly_group = pd.DataFrame(city_df.groupby('month').mean())\n",
    "print(monthly_group)\n",
    "\n",
    "monthly_group.index = ['Jan', 'Feb', 'Mar', 'Apr', 'May', 'Jun', 'Jul', 'Aug', 'Sept', 'Oct', 'Nov', 'Dec']\n",
    "\n",
    "def perform_analysis(feature):\n",
    "    \"\"\"Performs monthly analysis and plotting\"\"\"\n",
    "    \n",
    "    mean_value = monthly_group[feature].mean()\n",
    "    maximum_value = monthly_group[feature].max()\n",
    "    minimum_value = monthly_group[feature].min()\n",
    "    ten_percent = maximum_value/100\n",
    "\n",
    "    print(f'Mean {feature} is: {mean_value}')\n",
    "    print(f'Maximum {feature} is: {maximum_value}')\n",
    "    print(f'Minimum {feature} is: {minimum_value}')\n",
    "    \n",
    "    fig = plt.figure()\n",
    "    ax = fig.add_axes([0,0,2,1])\n",
    "    # To zoom into the plot\n",
    "    ax.set(ylim=[minimum_value - ten_percent,\n",
    "                 maximum_value + ten_percent])\n",
    "         \n",
    "    ax.bar((monthly_group.index), (monthly_group[feature]))\n",
    "    plt.title(f'{feature} variation chart'.title())\n",
    "    plt.xticks((monthly_group.index))\n",
    "    plt.show()"
   ]
  },
  {
   "cell_type": "markdown",
   "id": "657dce3a",
   "metadata": {},
   "source": [
    "### Humidity"
   ]
  },
  {
   "cell_type": "code",
   "execution_count": 9,
   "id": "c6c85e2e",
   "metadata": {},
   "outputs": [
    {
     "name": "stdout",
     "output_type": "stream",
     "text": [
      "Mean humidity is: 76.85597088773436\n",
      "Maximum humidity is: 80.56612903225806\n",
      "Minimum humidity is: 71.33222222222223\n"
     ]
    },
    {
     "data": {
      "image/png": "[encoded data removed]",
      "text/plain": [
       "<Figure size 432x288 with 1 Axes>"
      ]
     },
     "metadata": {
      "needs_background": "light"
     },
     "output_type": "display_data"
    }
   ],
   "source": [
    "perform_analysis('humidity')"
   ]
  },
  {
   "cell_type": "markdown",
   "id": "505a93fc",
   "metadata": {},
   "source": [
    "### Pressure"
   ]
  },
  {
   "cell_type": "code",
   "execution_count": 10,
   "id": "9545556b",
   "metadata": {},
   "outputs": [
    {
     "name": "stdout",
     "output_type": "stream",
     "text": [
      "Mean pressure is: 1018.8489629264847\n",
      "Maximum pressure is: 1022.8739247311828\n",
      "Minimum pressure is: 1013.9741935483871\n"
     ]
    },
    {
     "data": {
      "image/png": "[encoded data removed]",
      "text/plain": [
       "<Figure size 432x288 with 1 Axes>"
      ]
     },
     "metadata": {
      "needs_background": "light"
     },
     "output_type": "display_data"
    }
   ],
   "source": [
    "perform_analysis('pressure')"
   ]
  },
  {
   "cell_type": "markdown",
   "id": "cd68bf62",
   "metadata": {},
   "source": [
    "### Temperature"
   ]
  },
  {
   "cell_type": "markdown",
   "id": "6662469c",
   "metadata": {},
   "source": [
    "### Note the inverse correlation between temperature and humidty"
   ]
  },
  {
   "cell_type": "code",
   "execution_count": 11,
   "id": "3d9d2211",
   "metadata": {},
   "outputs": [
    {
     "name": "stdout",
     "output_type": "stream",
     "text": [
      "Mean temperature is: 288.12580243677985\n",
      "Maximum temperature is: 292.62170181132825\n",
      "Minimum temperature is: 283.17020219190294\n"
     ]
    },
    {
     "data": {
      "image/png": "[encoded data removed]",
      "text/plain": [
       "<Figure size 432x288 with 1 Axes>"
      ]
     },
     "metadata": {
      "needs_background": "light"
     },
     "output_type": "display_data"
    }
   ],
   "source": [
    "perform_analysis('temperature')"
   ]
  },
  {
   "cell_type": "markdown",
   "id": "a116b716",
   "metadata": {},
   "source": [
    "### Wind Direction"
   ]
  },
  {
   "cell_type": "code",
   "execution_count": 12,
   "id": "a74990ed",
   "metadata": {},
   "outputs": [
    {
     "name": "stdout",
     "output_type": "stream",
     "text": [
      "Mean wind_direction is: 209.15416471680183\n",
      "Maximum wind_direction is: 232.7725806451613\n",
      "Minimum wind_direction is: 170.21021505376345\n"
     ]
    },
    {
     "data": {
      "image/png": "[encoded data removed]",
      "text/plain": [
       "<Figure size 432x288 with 1 Axes>"
      ]
     },
     "metadata": {
      "needs_background": "light"
     },
     "output_type": "display_data"
    }
   ],
   "source": [
    "perform_analysis('wind_direction')"
   ]
  },
  {
   "cell_type": "markdown",
   "id": "034cb321",
   "metadata": {},
   "source": [
    "### Wind Speed"
   ]
  },
  {
   "cell_type": "code",
   "execution_count": 13,
   "id": "24e76e66",
   "metadata": {},
   "outputs": [
    {
     "name": "stdout",
     "output_type": "stream",
     "text": [
      "Mean wind_speed is: 2.796420288279366\n",
      "Maximum wind_speed is: 3.814722222222222\n",
      "Minimum wind_speed is: 2.238611111111111\n"
     ]
    },
    {
     "data": {
      "image/png": "[encoded data removed]",
      "text/plain": [
       "<Figure size 432x288 with 1 Axes>"
      ]
     },
     "metadata": {
      "needs_background": "light"
     },
     "output_type": "display_data"
    }
   ],
   "source": [
    "perform_analysis('wind_speed')"
   ]
  },
  {
   "cell_type": "markdown",
   "id": "b7553d30",
   "metadata": {},
   "source": [
    "## Most experienced weather condition was a clear sky"
   ]
  },
  {
   "cell_type": "code",
   "execution_count": 14,
   "id": "71c0ee98",
   "metadata": {},
   "outputs": [
    {
     "data": {
      "image/png": "[encoded data removed]",
      "text/plain": [
       "<Figure size 432x288 with 1 Axes>"
      ]
     },
     "metadata": {},
     "output_type": "display_data"
    }
   ],
   "source": [
    "weather_description = city_df.groupby(['weather_description']).size()\n",
    "\n",
    "weather_dict = {condition:count for condition, count in weather_description.iteritems()}\n",
    "   \n",
    "\n",
    "top_weathers = list(sorted(weather_dict.items(), key=lambda item: item[1]))[-10:]\n",
    "\n",
    "top_weathers = dict(top_weathers)\n",
    "#print(top_weathers)\n",
    "\n",
    "fig = plt.figure()\n",
    "ax = fig.add_axes([0,0,1,1])\n",
    "ax.pie(top_weathers.values(), labels=top_weathers.keys())\n",
    "plt.show()"
   ]
  }
 ],
 "metadata": {
  "kernelspec": {
   "display_name": "Python 3",
   "language": "python",
   "name": "python3"
  },
  "language_info": {
   "codemirror_mode": {
    "name": "ipython",
    "version": 3
   },
   "file_extension": ".py",
   "mimetype": "text/x-python",
   "name": "python",
   "nbconvert_exporter": "python",
   "pygments_lexer": "ipython3",
   "version": "3.9.1"
  }
 },
 "nbformat": 4,
 "nbformat_minor": 5
}
