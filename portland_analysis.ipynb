{
 "cells": [
  {
   "cell_type": "code",
   "execution_count": 1,
   "id": "fed5f2d7",
   "metadata": {},
   "outputs": [
    {
     "name": "stdout",
     "output_type": "stream",
     "text": [
      "   Unnamed: 0             datetime  humidity  pressure  temperature  \\\n",
      "0           0  2012-10-01 12:00:00      81.0    1024.0   282.080000   \n",
      "1           1  2012-10-01 13:00:00      81.0    1024.0   282.080000   \n",
      "2           2  2012-10-01 14:00:00      80.0    1024.0   282.083252   \n",
      "\n",
      "  weather_description  wind_direction  wind_speed  hour  day  week  month  \n",
      "0    scattered clouds             0.0         0.0    12    1    40     10  \n",
      "1    scattered clouds             0.0         0.0    13    1    40     10  \n",
      "2    scattered clouds             4.0         0.0    14    1    40     10  \n"
     ]
    }
   ],
   "source": [
    "import pandas as pd\n",
    "import matplotlib.pyplot as plt\n",
    "import seaborn as sns\n",
    "\n",
    "city_df = pd.read_csv('portland.csv')\n",
    "print(city_df.head(3))"
   ]
  },
  {
   "cell_type": "markdown",
   "id": "aefe2639",
   "metadata": {},
   "source": [
    "# General data summary"
   ]
  },
  {
   "cell_type": "code",
   "execution_count": 2,
   "id": "5d116285",
   "metadata": {},
   "outputs": [
    {
     "data": {
      "text/html": [
       "<div>\n",
       "<style scoped>\n",
       "    .dataframe tbody tr th:only-of-type {\n",
       "        vertical-align: middle;\n",
       "    }\n",
       "\n",
       "    .dataframe tbody tr th {\n",
       "        vertical-align: top;\n",
       "    }\n",
       "\n",
       "    .dataframe thead th {\n",
       "        text-align: right;\n",
       "    }\n",
       "</style>\n",
       "<table border=\"1\" class=\"dataframe\">\n",
       "  <thead>\n",
       "    <tr style=\"text-align: right;\">\n",
       "      <th></th>\n",
       "      <th>Unnamed: 0</th>\n",
       "      <th>humidity</th>\n",
       "      <th>pressure</th>\n",
       "      <th>temperature</th>\n",
       "      <th>wind_direction</th>\n",
       "      <th>wind_speed</th>\n",
       "      <th>hour</th>\n",
       "      <th>day</th>\n",
       "      <th>week</th>\n",
       "      <th>month</th>\n",
       "    </tr>\n",
       "  </thead>\n",
       "  <tbody>\n",
       "    <tr>\n",
       "      <th>count</th>\n",
       "      <td>45253.000000</td>\n",
       "      <td>45253.000000</td>\n",
       "      <td>45253.000000</td>\n",
       "      <td>45253.000000</td>\n",
       "      <td>45253.000000</td>\n",
       "      <td>45253.000000</td>\n",
       "      <td>45253.000000</td>\n",
       "      <td>45253.000000</td>\n",
       "      <td>45253.000000</td>\n",
       "      <td>45253.000000</td>\n",
       "    </tr>\n",
       "    <tr>\n",
       "      <th>mean</th>\n",
       "      <td>22626.000000</td>\n",
       "      <td>74.668530</td>\n",
       "      <td>1019.268314</td>\n",
       "      <td>284.992865</td>\n",
       "      <td>189.895874</td>\n",
       "      <td>2.050693</td>\n",
       "      <td>11.501337</td>\n",
       "      <td>15.725322</td>\n",
       "      <td>27.134378</td>\n",
       "      <td>6.648730</td>\n",
       "    </tr>\n",
       "    <tr>\n",
       "      <th>std</th>\n",
       "      <td>13063.560203</td>\n",
       "      <td>19.059956</td>\n",
       "      <td>9.942747</td>\n",
       "      <td>7.452368</td>\n",
       "      <td>102.876497</td>\n",
       "      <td>1.840820</td>\n",
       "      <td>6.922398</td>\n",
       "      <td>8.793919</td>\n",
       "      <td>15.134942</td>\n",
       "      <td>3.464906</td>\n",
       "    </tr>\n",
       "    <tr>\n",
       "      <th>min</th>\n",
       "      <td>0.000000</td>\n",
       "      <td>10.000000</td>\n",
       "      <td>968.000000</td>\n",
       "      <td>262.370000</td>\n",
       "      <td>0.000000</td>\n",
       "      <td>0.000000</td>\n",
       "      <td>0.000000</td>\n",
       "      <td>1.000000</td>\n",
       "      <td>1.000000</td>\n",
       "      <td>1.000000</td>\n",
       "    </tr>\n",
       "    <tr>\n",
       "      <th>25%</th>\n",
       "      <td>11313.000000</td>\n",
       "      <td>63.000000</td>\n",
       "      <td>1014.000000</td>\n",
       "      <td>279.850000</td>\n",
       "      <td>107.000000</td>\n",
       "      <td>1.000000</td>\n",
       "      <td>6.000000</td>\n",
       "      <td>8.000000</td>\n",
       "      <td>14.000000</td>\n",
       "      <td>4.000000</td>\n",
       "    </tr>\n",
       "    <tr>\n",
       "      <th>50%</th>\n",
       "      <td>22626.000000</td>\n",
       "      <td>80.000000</td>\n",
       "      <td>1019.000000</td>\n",
       "      <td>284.320000</td>\n",
       "      <td>198.000000</td>\n",
       "      <td>1.000000</td>\n",
       "      <td>12.000000</td>\n",
       "      <td>16.000000</td>\n",
       "      <td>27.000000</td>\n",
       "      <td>7.000000</td>\n",
       "    </tr>\n",
       "    <tr>\n",
       "      <th>75%</th>\n",
       "      <td>33939.000000</td>\n",
       "      <td>90.000000</td>\n",
       "      <td>1025.000000</td>\n",
       "      <td>289.450000</td>\n",
       "      <td>289.000000</td>\n",
       "      <td>3.000000</td>\n",
       "      <td>18.000000</td>\n",
       "      <td>23.000000</td>\n",
       "      <td>41.000000</td>\n",
       "      <td>10.000000</td>\n",
       "    </tr>\n",
       "    <tr>\n",
       "      <th>max</th>\n",
       "      <td>45252.000000</td>\n",
       "      <td>100.000000</td>\n",
       "      <td>1056.000000</td>\n",
       "      <td>312.520000</td>\n",
       "      <td>360.000000</td>\n",
       "      <td>17.000000</td>\n",
       "      <td>23.000000</td>\n",
       "      <td>31.000000</td>\n",
       "      <td>53.000000</td>\n",
       "      <td>12.000000</td>\n",
       "    </tr>\n",
       "  </tbody>\n",
       "</table>\n",
       "</div>"
      ],
      "text/plain": [
       "         Unnamed: 0      humidity      pressure   temperature  wind_direction  \\\n",
       "count  45253.000000  45253.000000  45253.000000  45253.000000    45253.000000   \n",
       "mean   22626.000000     74.668530   1019.268314    284.992865      189.895874   \n",
       "std    13063.560203     19.059956      9.942747      7.452368      102.876497   \n",
       "min        0.000000     10.000000    968.000000    262.370000        0.000000   \n",
       "25%    11313.000000     63.000000   1014.000000    279.850000      107.000000   \n",
       "50%    22626.000000     80.000000   1019.000000    284.320000      198.000000   \n",
       "75%    33939.000000     90.000000   1025.000000    289.450000      289.000000   \n",
       "max    45252.000000    100.000000   1056.000000    312.520000      360.000000   \n",
       "\n",
       "         wind_speed          hour           day          week         month  \n",
       "count  45253.000000  45253.000000  45253.000000  45253.000000  45253.000000  \n",
       "mean       2.050693     11.501337     15.725322     27.134378      6.648730  \n",
       "std        1.840820      6.922398      8.793919     15.134942      3.464906  \n",
       "min        0.000000      0.000000      1.000000      1.000000      1.000000  \n",
       "25%        1.000000      6.000000      8.000000     14.000000      4.000000  \n",
       "50%        1.000000     12.000000     16.000000     27.000000      7.000000  \n",
       "75%        3.000000     18.000000     23.000000     41.000000     10.000000  \n",
       "max       17.000000     23.000000     31.000000     53.000000     12.000000  "
      ]
     },
     "execution_count": 2,
     "metadata": {},
     "output_type": "execute_result"
    }
   ],
   "source": [
    "city_df.describe()"
   ]
  },
  {
   "cell_type": "markdown",
   "id": "5a323aef",
   "metadata": {},
   "source": [
    "# Average values experienced each month\n"
   ]
  },
  {
   "cell_type": "code",
   "execution_count": 3,
   "id": "0bc38599",
   "metadata": {},
   "outputs": [
    {
     "name": "stdout",
     "output_type": "stream",
     "text": [
      "         Unnamed: 0   humidity     pressure  temperature  wind_direction  \\\n",
      "month                                                                      \n",
      "1      20092.300000  82.468011  1023.320161   276.733184      144.043548   \n",
      "2      20864.861702  81.965426  1020.283983   279.159428      140.232565   \n",
      "3      21513.100000  77.656452  1020.979839   281.697859      157.061022   \n",
      "4      22245.100000  72.137222  1021.607500   283.817127      179.512778   \n",
      "5      22977.100000  67.754301  1019.889247   287.715237      216.709946   \n",
      "6      23709.100000  66.418333  1019.247500   290.503580      233.772222   \n",
      "7      24441.100000  61.631720  1015.582527   293.474855      259.011559   \n",
      "8      25185.100000  62.614516  1016.339785   293.933623      243.252151   \n",
      "9      25917.100000  70.093611  1017.559444   289.985510      203.681944   \n",
      "10     22327.537736  82.230009  1016.433064   284.827806      171.882300   \n",
      "11     22880.327670  82.759367  1019.728648   281.231417      163.667908   \n",
      "12     19348.300000  85.714247  1020.845968   277.224661      170.574731   \n",
      "\n",
      "       wind_speed       hour        day       week  \n",
      "month                                               \n",
      "1        2.172312  11.500000  16.000000   4.129032  \n",
      "2        2.510047  11.500000  14.602837   7.000000  \n",
      "3        2.327688  11.500000  16.000000  11.225806  \n",
      "4        2.070556  11.500000  15.500000  15.586667  \n",
      "5        1.748118  11.500000  16.000000  19.941935  \n",
      "6        1.436944  11.500000  15.500000  24.300000  \n",
      "7        2.104301  11.500000  16.000000  28.658065  \n",
      "8        1.695699  11.500000  16.000000  33.083871  \n",
      "9        1.668611  11.500000  15.500000  37.446667  \n",
      "10       1.780773  11.516173  16.040431  41.795148  \n",
      "11       2.653014  11.497324  15.422388  46.128927  \n",
      "12       2.409946  11.500000  16.000000  48.535484  \n"
     ]
    }
   ],
   "source": [
    "monthly_group = pd.DataFrame(city_df.groupby('month').mean())\n",
    "print(monthly_group)\n",
    "\n",
    "monthly_group.index = ['Jan', 'Feb', 'Mar', 'Apr', 'May', 'Jun', 'Jul', 'Aug', 'Sept', 'Oct', 'Nov', 'Dec']\n",
    "\n",
    "def perform_analysis(feature):\n",
    "    \"\"\"Performs monthly analysis and plotting\"\"\"\n",
    "    \n",
    "    mean_value = monthly_group[feature].mean()\n",
    "    maximum_value = monthly_group[feature].max()\n",
    "    minimum_value = monthly_group[feature].min()\n",
    "    ten_percent = maximum_value/100\n",
    "\n",
    "    print(f'Mean {feature} is: {mean_value}')\n",
    "    print(f'Maximum {feature} is: {maximum_value}')\n",
    "    print(f'Minimum {feature} is: {minimum_value}')\n",
    "    \n",
    "    fig = plt.figure()\n",
    "    ax = fig.add_axes([0,0,2,1])\n",
    "    # To zoom into the plot\n",
    "    ax.set(ylim=[minimum_value - ten_percent,\n",
    "                 maximum_value + ten_percent])\n",
    "         \n",
    "    ax.bar((monthly_group.index), (monthly_group[feature]))\n",
    "    plt.title(f'{feature} variation chart'.title())\n",
    "    plt.xticks((monthly_group.index))\n",
    "    plt.show()"
   ]
  },
  {
   "cell_type": "markdown",
   "id": "657dce3a",
   "metadata": {},
   "source": [
    "### Humidity"
   ]
  },
  {
   "cell_type": "code",
   "execution_count": 4,
   "id": "c6c85e2e",
   "metadata": {},
   "outputs": [
    {
     "name": "stdout",
     "output_type": "stream",
     "text": [
      "Mean humidity is: 74.45360129128069\n",
      "Maximum humidity is: 85.71424731182796\n",
      "Minimum humidity is: 61.63172043010753\n"
     ]
    },
    {
     "data": {
      "image/png": "[encoded data removed]",
      "text/plain": [
       "<Figure size 432x288 with 1 Axes>"
      ]
     },
     "metadata": {
      "needs_background": "light"
     },
     "output_type": "display_data"
    }
   ],
   "source": [
    "perform_analysis('humidity')"
   ]
  },
  {
   "cell_type": "markdown",
   "id": "505a93fc",
   "metadata": {},
   "source": [
    "### Pressure"
   ]
  },
  {
   "cell_type": "code",
   "execution_count": 6,
   "id": "9545556b",
   "metadata": {},
   "outputs": [
    {
     "name": "stdout",
     "output_type": "stream",
     "text": [
      "Mean pressure is: 1019.3181388719278\n",
      "Maximum pressure is: 1023.3201612903226\n",
      "Minimum pressure is: 1015.5825268817205\n"
     ]
    },
    {
     "data": {
      "image/png": "[encoded data removed]",
      "text/plain": [
       "<Figure size 432x288 with 1 Axes>"
      ]
     },
     "metadata": {
      "needs_background": "light"
     },
     "output_type": "display_data"
    }
   ],
   "source": [
    "perform_analysis('pressure')"
   ]
  },
  {
   "cell_type": "markdown",
   "id": "cd68bf62",
   "metadata": {},
   "source": [
    "### Temperature"
   ]
  },
  {
   "cell_type": "markdown",
   "id": "6662469c",
   "metadata": {},
   "source": [
    "### Note the inverse correlation between temperature and humidty"
   ]
  },
  {
   "cell_type": "code",
   "execution_count": 7,
   "id": "3d9d2211",
   "metadata": {},
   "outputs": [
    {
     "name": "stdout",
     "output_type": "stream",
     "text": [
      "Mean temperature is: 285.0253571636489\n",
      "Maximum temperature is: 293.93362315418335\n",
      "Minimum temperature is: 276.7331841650836\n"
     ]
    },
    {
     "data": {
      "image/png": "[encoded data removed]",
      "text/plain": [
       "<Figure size 432x288 with 1 Axes>"
      ]
     },
     "metadata": {
      "needs_background": "light"
     },
     "output_type": "display_data"
    }
   ],
   "source": [
    "perform_analysis('temperature')"
   ]
  },
  {
   "cell_type": "markdown",
   "id": "a116b716",
   "metadata": {},
   "source": [
    "### Wind Direction"
   ]
  },
  {
   "cell_type": "code",
   "execution_count": 8,
   "id": "a74990ed",
   "metadata": {},
   "outputs": [
    {
     "name": "stdout",
     "output_type": "stream",
     "text": [
      "Mean wind_direction is: 190.28355619817003\n",
      "Maximum wind_direction is: 259.01155913978494\n",
      "Minimum wind_direction is: 140.23256501182033\n"
     ]
    },
    {
     "data": {
      "image/png": "[encoded data removed]",
      "text/plain": [
       "<Figure size 432x288 with 1 Axes>"
      ]
     },
     "metadata": {
      "needs_background": "light"
     },
     "output_type": "display_data"
    }
   ],
   "source": [
    "perform_analysis('wind_direction')"
   ]
  },
  {
   "cell_type": "markdown",
   "id": "034cb321",
   "metadata": {},
   "source": [
    "### Wind Speed"
   ]
  },
  {
   "cell_type": "code",
   "execution_count": 9,
   "id": "24e76e66",
   "metadata": {},
   "outputs": [
    {
     "name": "stdout",
     "output_type": "stream",
     "text": [
      "Mean wind_speed is: 2.0481674437922286\n",
      "Maximum wind_speed is: 2.6530137305096577\n",
      "Minimum wind_speed is: 1.4369444444444444\n"
     ]
    },
    {
     "data": {
      "image/png": "[encoded data removed]",
      "text/plain": [
       "<Figure size 432x288 with 1 Axes>"
      ]
     },
     "metadata": {
      "needs_background": "light"
     },
     "output_type": "display_data"
    }
   ],
   "source": [
    "perform_analysis('wind_speed')"
   ]
  },
  {
   "cell_type": "markdown",
   "id": "b7553d30",
   "metadata": {},
   "source": [
    "## Most experienced weather condition was a clear sky"
   ]
  },
  {
   "cell_type": "code",
   "execution_count": 10,
   "id": "71c0ee98",
   "metadata": {},
   "outputs": [
    {
     "data": {
      "image/png": "[encoded data removed]",
      "text/plain": [
       "<Figure size 432x288 with 1 Axes>"
      ]
     },
     "metadata": {},
     "output_type": "display_data"
    }
   ],
   "source": [
    "weather_description = city_df.groupby(['weather_description']).size()\n",
    "\n",
    "weather_dict = {condition:count for condition, count in weather_description.iteritems()}\n",
    "   \n",
    "\n",
    "top_weathers = list(sorted(weather_dict.items(), key=lambda item: item[1]))[-10:]\n",
    "\n",
    "top_weathers = dict(top_weathers)\n",
    "#print(top_weathers)\n",
    "\n",
    "fig = plt.figure()\n",
    "ax = fig.add_axes([0,0,1,1])\n",
    "ax.pie(top_weathers.values(), labels=top_weathers.keys())\n",
    "plt.show()"
   ]
  }
 ],
 "metadata": {
  "kernelspec": {
   "display_name": "Python 3",
   "language": "python",
   "name": "python3"
  },
  "language_info": {
   "codemirror_mode": {
    "name": "ipython",
    "version": 3
   },
   "file_extension": ".py",
   "mimetype": "text/x-python",
   "name": "python",
   "nbconvert_exporter": "python",
   "pygments_lexer": "ipython3",
   "version": "3.9.1"
  }
 },
 "nbformat": 4,
 "nbformat_minor": 5
}
