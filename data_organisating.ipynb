{
 "cells": [
  {
   "cell_type": "markdown",
   "id": "4f8c800b",
   "metadata": {},
   "source": [
    "### Peek data"
   ]
  },
  {
   "cell_type": "code",
   "execution_count": 6,
   "id": "3d7df713",
   "metadata": {},
   "outputs": [
    {
     "name": "stdout",
     "output_type": "stream",
     "text": [
      "              datetime  Vancouver  Portland  San Francisco  Seattle  \\\n",
      "0  2012-10-01 12:00:00        NaN       NaN            NaN      NaN   \n",
      "1  2012-10-01 13:00:00        NaN    1024.0         1009.0   1027.0   \n",
      "2  2012-10-01 14:00:00        NaN    1024.0         1009.0   1027.0   \n",
      "\n",
      "   Los Angeles  San Diego  Las Vegas  Phoenix  Albuquerque  ...  Philadelphia  \\\n",
      "0          NaN        NaN        NaN      NaN          NaN  ...           NaN   \n",
      "1       1013.0     1013.0     1018.0   1013.0       1024.0  ...        1014.0   \n",
      "2       1013.0     1013.0     1018.0   1013.0       1024.0  ...        1014.0   \n",
      "\n",
      "   New York  Montreal  Boston  Beersheba  Tel Aviv District   Eilat   Haifa  \\\n",
      "0       NaN       NaN     NaN        NaN                NaN  1011.0     NaN   \n",
      "1    1012.0    1001.0  1014.0      984.0             1012.0  1010.0  1013.0   \n",
      "2    1012.0     986.0  1014.0      984.0             1012.0  1010.0  1013.0   \n",
      "\n",
      "   Nahariyya  Jerusalem  \n",
      "0        NaN        NaN  \n",
      "1     1013.0      990.0  \n",
      "2     1013.0      990.0  \n",
      "\n",
      "[3 rows x 37 columns]\n"
     ]
    }
   ],
   "source": [
    "import pandas as pd\n",
    "df_pressure = pd.read_csv('./archive/pressure.csv')\n",
    "print(df_pressure.head(3))"
   ]
  },
  {
   "cell_type": "markdown",
   "id": "8b20a567",
   "metadata": {},
   "source": [
    "### Get all file names"
   ]
  },
  {
   "cell_type": "code",
   "execution_count": 7,
   "id": "0eec633a",
   "metadata": {},
   "outputs": [
    {
     "name": "stdout",
     "output_type": "stream",
     "text": [
      "['humidity', 'pressure', 'temperature', 'weather_description', 'wind_direction', 'wind_speed']\n"
     ]
    }
   ],
   "source": [
    "import os\n",
    "files = []\n",
    "\n",
    "for _, _, file_names in os.walk('./archive'):\n",
    "    files.extend([f.rstrip('.csv') for f in file_names])\n",
    "\n",
    "files = files[1:]\n",
    "print(files)"
   ]
  },
  {
   "cell_type": "markdown",
   "id": "85e65865",
   "metadata": {},
   "source": [
    "### Get Vancouver"
   ]
  },
  {
   "cell_type": "code",
   "execution_count": 8,
   "id": "e3575b0f",
   "metadata": {},
   "outputs": [
    {
     "name": "stdout",
     "output_type": "stream",
     "text": [
      "working with humidity.csv ...\n",
      "working with pressure.csv ...\n",
      "working with temperature.csv ...\n",
      "working with weather_description.csv ...\n",
      "working with wind_direction.csv ...\n",
      "working with wind_speed.csv ...\n",
      "Done\n"
     ]
    }
   ],
   "source": [
    "date_index = df_pressure['datetime']\n",
    "vancouver_df = pd.DataFrame()\n",
    "\n",
    "for file in files:\n",
    "    print(f'working with {file}.csv ...')\n",
    "    \n",
    "    # Get column for vancouver city\n",
    "    df = pd.read_csv(f'./archive/{file}.csv')\n",
    "    city_vancouver = df['Vancouver']\n",
    "    \n",
    "    # Add new column to vancouver df\n",
    "    vancouver_df[file] = city_vancouver\n",
    "\n",
    "# Set df index\n",
    "vancouver_df = vancouver_df.set_index(df_pressure['datetime'])\n",
    "\n",
    "vancouver_df.to_csv('vancouver.csv')\n",
    "print('Done')"
   ]
  },
  {
   "cell_type": "markdown",
   "id": "d8c31062",
   "metadata": {},
   "source": [
    "### Getting Portland "
   ]
  },
  {
   "cell_type": "code",
   "execution_count": 9,
   "id": "6a7f4420",
   "metadata": {},
   "outputs": [
    {
     "name": "stdout",
     "output_type": "stream",
     "text": [
      "working with humidity.csv ...\n",
      "working with pressure.csv ...\n",
      "working with temperature.csv ...\n",
      "working with weather_description.csv ...\n",
      "working with wind_direction.csv ...\n",
      "working with wind_speed.csv ...\n",
      "Done\n"
     ]
    }
   ],
   "source": [
    "portland_df = pd.DataFrame()\n",
    "\n",
    "\n",
    "for file in files:\n",
    "    print(f'working with {file}.csv ...')\n",
    "    \n",
    "    # Get column for portland city\n",
    "    df = pd.read_csv(f'./archive/{file}.csv')\n",
    "    city_portland = df['Portland']\n",
    "    \n",
    "    # Add new column to portland df\n",
    "    portland_df[file] = city_portland\n",
    "\n",
    "# Set df index\n",
    "portland_df = portland_df.set_index(df_pressure['datetime'])\n",
    "\n",
    "portland_df.to_csv('portland.csv')\n",
    "print('Done')"
   ]
  },
  {
   "cell_type": "markdown",
   "id": "bdaa093c",
   "metadata": {},
   "source": [
    "### Get San Francisco"
   ]
  },
  {
   "cell_type": "code",
   "execution_count": 10,
   "id": "3ce27086",
   "metadata": {},
   "outputs": [
    {
     "name": "stdout",
     "output_type": "stream",
     "text": [
      "working with humidity.csv ...\n",
      "working with pressure.csv ...\n",
      "working with temperature.csv ...\n",
      "working with weather_description.csv ...\n",
      "working with wind_direction.csv ...\n",
      "working with wind_speed.csv ...\n",
      "Done\n"
     ]
    }
   ],
   "source": [
    "date_index = df_pressure['datetime']\n",
    "san_francisco_df = pd.DataFrame()\n",
    "\n",
    "for file in files:\n",
    "    print(f'working with {file}.csv ...')\n",
    "    \n",
    "    # Get column for San Francisco city\n",
    "    df = pd.read_csv(f'./archive/{file}.csv')\n",
    "    city_san_francisco = df['San Francisco']\n",
    "    \n",
    "    # Add new column to San Francisco df\n",
    "    san_francisco_df[file] = city_san_francisco\n",
    "\n",
    "# Set df index\n",
    "san_francisco_df = san_francisco_df.set_index(df_pressure['datetime'])\n",
    "\n",
    "san_francisco_df.to_csv('san_francisco.csv')\n",
    "print('Done')"
   ]
  }
 ],
 "metadata": {
  "kernelspec": {
   "display_name": "Python 3",
   "language": "python",
   "name": "python3"
  },
  "language_info": {
   "codemirror_mode": {
    "name": "ipython",
    "version": 3
   },
   "file_extension": ".py",
   "mimetype": "text/x-python",
   "name": "python",
   "nbconvert_exporter": "python",
   "pygments_lexer": "ipython3",
   "version": "3.9.1"
  }
 },
 "nbformat": 4,
 "nbformat_minor": 5
}
