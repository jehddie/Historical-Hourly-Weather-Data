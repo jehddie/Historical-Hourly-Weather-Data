{
 "cells": [
  {
   "cell_type": "markdown",
   "id": "f68ade84",
   "metadata": {},
   "source": [
    "### Missing value stats"
   ]
  },
  {
   "cell_type": "code",
   "execution_count": 10,
   "id": "fdab4903",
   "metadata": {},
   "outputs": [
    {
     "name": "stdout",
     "output_type": "stream",
     "text": [
      "           COLUMN NAME  MISSING VALUES  TOTAL ROWS  % MISSING\n",
      "0             datetime               0       45253       0.00\n",
      "1             humidity            1826       45253       4.04\n",
      "2             pressure            4234       45253       9.36\n",
      "3          temperature             795       45253       1.76\n",
      "4  weather_description             793       45253       1.75\n",
      "5       wind_direction             795       45253       1.76\n",
      "6           wind_speed             795       45253       1.76\n"
     ]
    }
   ],
   "source": [
    "import pandas as pd\n",
    "# vancouver, portland san_francisco\n",
    "\n",
    "vancouver_df = pd.read_csv('vancouver.csv')\n",
    "portland_df = pd.read_csv('portland.csv')\n",
    "san_francisco_df = pd.read_csv('san_francisco.csv')\n",
    "\n",
    "def missing_statistics(vancouver_df):    \n",
    "    statitics = pd.DataFrame(vancouver_df.isnull().sum()).reset_index()\n",
    "    statitics.columns=['COLUMN NAME',\"MISSING VALUES\"]\n",
    "    statitics['TOTAL ROWS'] = vancouver_df.shape[0]\n",
    "    statitics['% MISSING'] = round((statitics['MISSING VALUES']/statitics['TOTAL ROWS'])*100,2)\n",
    "    return statitics\n",
    "\n",
    "print(missing_statistics(vancouver_df))"
   ]
  },
  {
   "cell_type": "markdown",
   "id": "0f9af170",
   "metadata": {},
   "source": [
    "### Split df datetime"
   ]
  },
  {
   "cell_type": "code",
   "execution_count": 11,
   "id": "f57bffdc",
   "metadata": {},
   "outputs": [
    {
     "name": "stdout",
     "output_type": "stream",
     "text": [
      "Done\n",
      "Done\n",
      "Done\n"
     ]
    }
   ],
   "source": [
    "def split_df(df):\n",
    "    \"\"\"Split df into days, week and month\"\"\"\n",
    "    df[\"datetime\"] = pd.to_datetime(df[\"datetime\"])\n",
    "    df[\"hour\"] = df[\"datetime\"].dt.hour\n",
    "    df[\"day\"] = df[\"datetime\"].dt.day\n",
    "    df[\"week\"] = df[\"datetime\"].dt.isocalendar().week\n",
    "    df[\"month\"] = df[\"datetime\"].dt.month\n",
    "\n",
    "    print('Done')\n",
    "    return df\n",
    "\n",
    "split_df(vancouver_df).to_csv('vancouver.csv')\n",
    "split_df(portland_df).to_csv('portland.csv')\n",
    "split_df(san_francisco_df).to_csv('san_francisco.csv')"
   ]
  },
  {
   "cell_type": "markdown",
   "id": "2f1cda11",
   "metadata": {},
   "source": [
    "### Fill missing temp with monthly mean (attempt)"
   ]
  },
  {
   "cell_type": "code",
   "execution_count": 5,
   "id": "e551c4b5",
   "metadata": {},
   "outputs": [
    {
     "name": "stdout",
     "output_type": "stream",
     "text": [
      "       temperature\n",
      "month             \n",
      "1       276.585788\n",
      "2       277.936693\n",
      "3       280.154877\n",
      "4       282.808979\n",
      "5       286.871250\n",
      "6       289.378408\n",
      "7       292.126039\n",
      "8       292.255956\n",
      "9       288.427139\n",
      "10      283.777763\n",
      "11      279.384032\n",
      "12      276.268192\n",
      "Done\n"
     ]
    }
   ],
   "source": [
    "# temp_filler = pd.DataFrame(vancouver_df.groupby(['month'])['temperature'].mean(), columns=[\"temperature\"])\n",
    "# vancouver_df.update(temp_filler, overwrite=False)\n",
    "\n",
    "monthly_temp = pd.DataFrame(vancouver_df.groupby(['month'])['temperature'].mean(), columns=[\"temperature\"])\n",
    "print(monthly_temp)\n",
    "\n",
    "print('Done')"
   ]
  },
  {
   "cell_type": "markdown",
   "id": "e7046e4c",
   "metadata": {},
   "source": [
    "### Backward fill"
   ]
  },
  {
   "cell_type": "code",
   "execution_count": 12,
   "id": "1f10612d",
   "metadata": {},
   "outputs": [
    {
     "name": "stdout",
     "output_type": "stream",
     "text": [
      "Done\n"
     ]
    }
   ],
   "source": [
    "vancouver_df.fillna(method='bfill', inplace=True)\n",
    "vancouver_df.to_csv('vancouver.csv')\n",
    "#print(vancouver_df.head(3))\n",
    "\n",
    "portland_df.fillna(method='bfill', inplace=True)\n",
    "portland_df.to_csv('portland.csv')\n",
    "\n",
    "san_francisco_df.fillna(method='bfill', inplace=True)\n",
    "san_francisco_df.to_csv('san_francisco.csv')\n",
    "print('Done')"
   ]
  }
 ],
 "metadata": {
  "kernelspec": {
   "display_name": "Python 3",
   "language": "python",
   "name": "python3"
  },
  "language_info": {
   "codemirror_mode": {
    "name": "ipython",
    "version": 3
   },
   "file_extension": ".py",
   "mimetype": "text/x-python",
   "name": "python",
   "nbconvert_exporter": "python",
   "pygments_lexer": "ipython3",
   "version": "3.9.1"
  }
 },
 "nbformat": 4,
 "nbformat_minor": 5
}
