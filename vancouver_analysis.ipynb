{
 "cells": [
  {
   "cell_type": "code",
   "execution_count": 12,
   "id": "fed5f2d7",
   "metadata": {},
   "outputs": [
    {
     "name": "stdout",
     "output_type": "stream",
     "text": [
      "   Unnamed: 0             datetime  humidity  pressure  temperature  \\\n",
      "0           0  2012-10-01 12:00:00      76.0     807.0   284.630000   \n",
      "1           1  2012-10-01 13:00:00      76.0     807.0   284.630000   \n",
      "2           2  2012-10-01 14:00:00      76.0     807.0   284.629041   \n",
      "\n",
      "  weather_description  wind_direction  wind_speed  hour  day  week  month  \n",
      "0                mist             0.0         0.0    12    1    40     10  \n",
      "1                mist             0.0         0.0    13    1    40     10  \n",
      "2       broken clouds             6.0         0.0    14    1    40     10  \n"
     ]
    }
   ],
   "source": [
    "import pandas as pd\n",
    "import matplotlib.pyplot as plt\n",
    "import seaborn as sns\n",
    "\n",
    "city_df = pd.read_csv('vancouver.csv')\n",
    "print(city_df.head(3))"
   ]
  },
  {
   "cell_type": "markdown",
   "id": "aefe2639",
   "metadata": {},
   "source": [
    "# General data summary"
   ]
  },
  {
   "cell_type": "code",
   "execution_count": 13,
   "id": "5d116285",
   "metadata": {},
   "outputs": [
    {
     "data": {
      "text/html": [
       "<div>\n",
       "<style scoped>\n",
       "    .dataframe tbody tr th:only-of-type {\n",
       "        vertical-align: middle;\n",
       "    }\n",
       "\n",
       "    .dataframe tbody tr th {\n",
       "        vertical-align: top;\n",
       "    }\n",
       "\n",
       "    .dataframe thead th {\n",
       "        text-align: right;\n",
       "    }\n",
       "</style>\n",
       "<table border=\"1\" class=\"dataframe\">\n",
       "  <thead>\n",
       "    <tr style=\"text-align: right;\">\n",
       "      <th></th>\n",
       "      <th>Unnamed: 0</th>\n",
       "      <th>humidity</th>\n",
       "      <th>pressure</th>\n",
       "      <th>temperature</th>\n",
       "      <th>wind_direction</th>\n",
       "      <th>wind_speed</th>\n",
       "      <th>hour</th>\n",
       "      <th>day</th>\n",
       "      <th>week</th>\n",
       "      <th>month</th>\n",
       "    </tr>\n",
       "  </thead>\n",
       "  <tbody>\n",
       "    <tr>\n",
       "      <th>count</th>\n",
       "      <td>45253.000000</td>\n",
       "      <td>44461.000000</td>\n",
       "      <td>44461.000000</td>\n",
       "      <td>44461.000000</td>\n",
       "      <td>44461.000000</td>\n",
       "      <td>44461.000000</td>\n",
       "      <td>45253.000000</td>\n",
       "      <td>45253.000000</td>\n",
       "      <td>45253.000000</td>\n",
       "      <td>45253.000000</td>\n",
       "    </tr>\n",
       "    <tr>\n",
       "      <th>mean</th>\n",
       "      <td>22626.000000</td>\n",
       "      <td>81.817773</td>\n",
       "      <td>1018.636580</td>\n",
       "      <td>283.862426</td>\n",
       "      <td>159.893435</td>\n",
       "      <td>2.432739</td>\n",
       "      <td>11.501337</td>\n",
       "      <td>15.725322</td>\n",
       "      <td>27.134378</td>\n",
       "      <td>6.648730</td>\n",
       "    </tr>\n",
       "    <tr>\n",
       "      <th>std</th>\n",
       "      <td>13063.560203</td>\n",
       "      <td>14.682216</td>\n",
       "      <td>17.607878</td>\n",
       "      <td>6.640008</td>\n",
       "      <td>98.166165</td>\n",
       "      <td>2.004617</td>\n",
       "      <td>6.922398</td>\n",
       "      <td>8.793919</td>\n",
       "      <td>15.134942</td>\n",
       "      <td>3.464906</td>\n",
       "    </tr>\n",
       "    <tr>\n",
       "      <th>min</th>\n",
       "      <td>0.000000</td>\n",
       "      <td>12.000000</td>\n",
       "      <td>807.000000</td>\n",
       "      <td>245.150000</td>\n",
       "      <td>0.000000</td>\n",
       "      <td>0.000000</td>\n",
       "      <td>0.000000</td>\n",
       "      <td>1.000000</td>\n",
       "      <td>1.000000</td>\n",
       "      <td>1.000000</td>\n",
       "    </tr>\n",
       "    <tr>\n",
       "      <th>25%</th>\n",
       "      <td>11313.000000</td>\n",
       "      <td>73.000000</td>\n",
       "      <td>1012.000000</td>\n",
       "      <td>279.160000</td>\n",
       "      <td>80.000000</td>\n",
       "      <td>1.000000</td>\n",
       "      <td>6.000000</td>\n",
       "      <td>8.000000</td>\n",
       "      <td>14.000000</td>\n",
       "      <td>4.000000</td>\n",
       "    </tr>\n",
       "    <tr>\n",
       "      <th>50%</th>\n",
       "      <td>22626.000000</td>\n",
       "      <td>86.000000</td>\n",
       "      <td>1017.000000</td>\n",
       "      <td>283.450000</td>\n",
       "      <td>140.000000</td>\n",
       "      <td>2.000000</td>\n",
       "      <td>12.000000</td>\n",
       "      <td>16.000000</td>\n",
       "      <td>27.000000</td>\n",
       "      <td>7.000000</td>\n",
       "    </tr>\n",
       "    <tr>\n",
       "      <th>75%</th>\n",
       "      <td>33939.000000</td>\n",
       "      <td>93.000000</td>\n",
       "      <td>1023.000000</td>\n",
       "      <td>288.600000</td>\n",
       "      <td>236.000000</td>\n",
       "      <td>4.000000</td>\n",
       "      <td>18.000000</td>\n",
       "      <td>23.000000</td>\n",
       "      <td>41.000000</td>\n",
       "      <td>10.000000</td>\n",
       "    </tr>\n",
       "    <tr>\n",
       "      <th>max</th>\n",
       "      <td>45252.000000</td>\n",
       "      <td>100.000000</td>\n",
       "      <td>1100.000000</td>\n",
       "      <td>307.000000</td>\n",
       "      <td>360.000000</td>\n",
       "      <td>25.000000</td>\n",
       "      <td>23.000000</td>\n",
       "      <td>31.000000</td>\n",
       "      <td>53.000000</td>\n",
       "      <td>12.000000</td>\n",
       "    </tr>\n",
       "  </tbody>\n",
       "</table>\n",
       "</div>"
      ],
      "text/plain": [
       "         Unnamed: 0      humidity      pressure   temperature  wind_direction  \\\n",
       "count  45253.000000  44461.000000  44461.000000  44461.000000    44461.000000   \n",
       "mean   22626.000000     81.817773   1018.636580    283.862426      159.893435   \n",
       "std    13063.560203     14.682216     17.607878      6.640008       98.166165   \n",
       "min        0.000000     12.000000    807.000000    245.150000        0.000000   \n",
       "25%    11313.000000     73.000000   1012.000000    279.160000       80.000000   \n",
       "50%    22626.000000     86.000000   1017.000000    283.450000      140.000000   \n",
       "75%    33939.000000     93.000000   1023.000000    288.600000      236.000000   \n",
       "max    45252.000000    100.000000   1100.000000    307.000000      360.000000   \n",
       "\n",
       "         wind_speed          hour           day          week         month  \n",
       "count  44461.000000  45253.000000  45253.000000  45253.000000  45253.000000  \n",
       "mean       2.432739     11.501337     15.725322     27.134378      6.648730  \n",
       "std        2.004617      6.922398      8.793919     15.134942      3.464906  \n",
       "min        0.000000      0.000000      1.000000      1.000000      1.000000  \n",
       "25%        1.000000      6.000000      8.000000     14.000000      4.000000  \n",
       "50%        2.000000     12.000000     16.000000     27.000000      7.000000  \n",
       "75%        4.000000     18.000000     23.000000     41.000000     10.000000  \n",
       "max       25.000000     23.000000     31.000000     53.000000     12.000000  "
      ]
     },
     "execution_count": 13,
     "metadata": {},
     "output_type": "execute_result"
    }
   ],
   "source": [
    "city_df.describe()"
   ]
  },
  {
   "cell_type": "markdown",
   "id": "5a323aef",
   "metadata": {},
   "source": [
    "# Average values experienced each month\n"
   ]
  },
  {
   "cell_type": "code",
   "execution_count": 14,
   "id": "0bc38599",
   "metadata": {},
   "outputs": [
    {
     "name": "stdout",
     "output_type": "stream",
     "text": [
      "         Unnamed: 0   humidity     pressure  temperature  wind_direction  \\\n",
      "month                                                                      \n",
      "1      20092.300000  88.485753  1020.994624   276.585788      139.641398   \n",
      "2      20864.861702  86.029846  1019.169031   277.936693      135.171690   \n",
      "3      21513.100000  83.268011  1026.683602   280.154877      147.966667   \n",
      "4      22245.100000  79.266944  1026.076111   282.808979      165.181667   \n",
      "5      22977.100000  78.416935  1022.062634   286.871250      182.058065   \n",
      "6      23709.100000  75.201389  1017.821389   289.378408      179.463889   \n",
      "7      24441.100000  72.519086  1015.148925   292.126039      188.352419   \n",
      "8      25185.100000  75.666129  1014.593548   292.255956      188.142742   \n",
      "9      25917.100000  82.330556  1015.488611   288.427139      176.075278   \n",
      "10     22327.537736  87.058297  1013.905899   283.777763      146.899472   \n",
      "11     22880.327670  85.723611  1016.820278   279.384032      141.243611   \n",
      "12     19348.300000  87.176613  1015.786022   276.268192      129.238710   \n",
      "\n",
      "       wind_speed       hour        day       week  \n",
      "month                                               \n",
      "1        1.930376  11.500000  16.000000   4.129032  \n",
      "2        2.391548  11.500000  14.602837   7.000000  \n",
      "3        2.694355  11.500000  16.000000  11.225806  \n",
      "4        2.589722  11.500000  15.500000  15.586667  \n",
      "5        1.994086  11.500000  16.000000  19.941935  \n",
      "6        2.113611  11.500000  15.500000  24.300000  \n",
      "7        2.557258  11.500000  16.000000  28.658065  \n",
      "8        2.558602  11.500000  16.000000  33.083871  \n",
      "9        2.507778  11.500000  15.500000  37.446667  \n",
      "10       2.422997  11.516173  16.040431  41.795148  \n",
      "11       2.754444  11.497324  15.422388  46.128927  \n",
      "12       2.683602  11.500000  16.000000  48.535484  \n"
     ]
    }
   ],
   "source": [
    "monthly_group = pd.DataFrame(city_df.groupby('month').mean())\n",
    "print(monthly_group)\n",
    "\n",
    "monthly_group.index = ['Jan', 'Feb', 'Mar', 'Apr', 'May', 'Jun', 'Jul', 'Aug', 'Sept', 'Oct', 'Nov', 'Dec']\n",
    "\n",
    "def perform_analysis(feature):\n",
    "    \"\"\"Performs monthly analysis and plotting\"\"\"\n",
    "    \n",
    "    mean_value = monthly_group[feature].mean()\n",
    "    maximum_value = monthly_group[feature].max()\n",
    "    minimum_value = monthly_group[feature].min()\n",
    "    ten_percent = maximum_value/100\n",
    "\n",
    "    print(f'Mean {feature} is: {mean_value}')\n",
    "    print(f'Maximum {feature} is: {maximum_value}')\n",
    "    print(f'Minimum {feature} is: {minimum_value}')\n",
    "    \n",
    "    fig = plt.figure()\n",
    "    ax = fig.add_axes([0,0,2,1])\n",
    "    # To zoom into the plot\n",
    "    ax.set(ylim=[minimum_value - ten_percent,\n",
    "                 maximum_value + ten_percent])\n",
    "         \n",
    "    ax.bar((monthly_group.index), (monthly_group[feature]))\n",
    "    plt.title(f'{feature} variation chart'.title())\n",
    "    plt.xticks((monthly_group.index))\n",
    "    plt.show()"
   ]
  },
  {
   "cell_type": "markdown",
   "id": "657dce3a",
   "metadata": {},
   "source": [
    "### Humidity"
   ]
  },
  {
   "cell_type": "code",
   "execution_count": 4,
   "id": "c6c85e2e",
   "metadata": {},
   "outputs": [
    {
     "name": "stdout",
     "output_type": "stream",
     "text": [
      "Mean humidity is: 81.76193085089682\n",
      "Maximum humidity is: 88.48575268817204\n",
      "Minimum humidity is: 72.51908602150537\n"
     ]
    },
    {
     "data": {
      "image/png": "[encoded data removed]",
      "text/plain": [
       "<Figure size 432x288 with 1 Axes>"
      ]
     },
     "metadata": {
      "needs_background": "light"
     },
     "output_type": "display_data"
    }
   ],
   "source": [
    "perform_analysis('humidity')"
   ]
  },
  {
   "cell_type": "markdown",
   "id": "505a93fc",
   "metadata": {},
   "source": [
    "### Pressure"
   ]
  },
  {
   "cell_type": "code",
   "execution_count": 5,
   "id": "9545556b",
   "metadata": {},
   "outputs": [
    {
     "name": "stdout",
     "output_type": "stream",
     "text": [
      "Mean pressure is: 1018.7125560845425\n",
      "Maximum pressure is: 1026.6836021505376\n",
      "Minimum pressure is: 1013.905898554051\n"
     ]
    },
    {
     "data": {
      "image/png": "[encoded data removed]",
      "text/plain": [
       "<Figure size 432x288 with 1 Axes>"
      ]
     },
     "metadata": {
      "needs_background": "light"
     },
     "output_type": "display_data"
    }
   ],
   "source": [
    "perform_analysis('pressure')"
   ]
  },
  {
   "cell_type": "markdown",
   "id": "cd68bf62",
   "metadata": {},
   "source": [
    "### Temperature"
   ]
  },
  {
   "cell_type": "markdown",
   "id": "6662469c",
   "metadata": {},
   "source": [
    "### Note the inverse correlation between temperature and humidty"
   ]
  },
  {
   "cell_type": "code",
   "execution_count": 6,
   "id": "3d9d2211",
   "metadata": {},
   "outputs": [
    {
     "name": "stdout",
     "output_type": "stream",
     "text": [
      "Mean temperature is: 283.8312596490996\n",
      "Maximum temperature is: 292.255955895921\n",
      "Minimum temperature is: 276.26819218674814\n"
     ]
    },
    {
     "data": {
      "image/png": "[encoded data removed]",
      "text/plain": [
       "<Figure size 432x288 with 1 Axes>"
      ]
     },
     "metadata": {
      "needs_background": "light"
     },
     "output_type": "display_data"
    }
   ],
   "source": [
    "perform_analysis('temperature')"
   ]
  },
  {
   "cell_type": "markdown",
   "id": "a116b716",
   "metadata": {},
   "source": [
    "### Wind Direction"
   ]
  },
  {
   "cell_type": "code",
   "execution_count": 7,
   "id": "a74990ed",
   "metadata": {},
   "outputs": [
    {
     "name": "stdout",
     "output_type": "stream",
     "text": [
      "Mean wind_direction is: 159.95296723880105\n",
      "Maximum wind_direction is: 188.3524193548387\n",
      "Minimum wind_direction is: 129.23870967741937\n"
     ]
    },
    {
     "data": {
      "image/png": "[encoded data removed]",
      "text/plain": [
       "<Figure size 432x288 with 1 Axes>"
      ]
     },
     "metadata": {
      "needs_background": "light"
     },
     "output_type": "display_data"
    }
   ],
   "source": [
    "perform_analysis('wind_direction')"
   ]
  },
  {
   "cell_type": "markdown",
   "id": "034cb321",
   "metadata": {},
   "source": [
    "### Wind Speed"
   ]
  },
  {
   "cell_type": "code",
   "execution_count": 8,
   "id": "24e76e66",
   "metadata": {},
   "outputs": [
    {
     "name": "stdout",
     "output_type": "stream",
     "text": [
      "Mean wind_speed is: 2.4331984220110057\n",
      "Maximum wind_speed is: 2.7544444444444443\n",
      "Minimum wind_speed is: 1.9303763440860215\n"
     ]
    },
    {
     "data": {
      "image/png": "[encoded data removed]",
      "text/plain": [
       "<Figure size 432x288 with 1 Axes>"
      ]
     },
     "metadata": {
      "needs_background": "light"
     },
     "output_type": "display_data"
    }
   ],
   "source": [
    "perform_analysis('wind_speed')"
   ]
  },
  {
   "cell_type": "markdown",
   "id": "b7553d30",
   "metadata": {},
   "source": [
    "## Most experienced weather condition was a clear sky"
   ]
  },
  {
   "cell_type": "code",
   "execution_count": 94,
   "id": "71c0ee98",
   "metadata": {},
   "outputs": [
    {
     "data": {
      "image/png": "[encoded data removed]",
      "text/plain": [
       "<Figure size 432x288 with 1 Axes>"
      ]
     },
     "metadata": {},
     "output_type": "display_data"
    }
   ],
   "source": [
    "weather_description = city_df.groupby(['weather_description']).size()\n",
    "\n",
    "weather_dict = {condition:count for condition, count in weather_description.iteritems()}\n",
    "   \n",
    "\n",
    "top_weathers = list(sorted(weather_dict.items(), key=lambda item: item[1]))[-10:]\n",
    "\n",
    "top_weathers = dict(top_weathers)\n",
    "#print(top_weathers)\n",
    "\n",
    "fig = plt.figure()\n",
    "ax = fig.add_axes([0,0,1,1])\n",
    "ax.pie(top_weathers.values(), labels=top_weathers.keys())\n",
    "plt.show()"
   ]
  }
 ],
 "metadata": {
  "kernelspec": {
   "display_name": "Python 3",
   "language": "python",
   "name": "python3"
  },
  "language_info": {
   "codemirror_mode": {
    "name": "ipython",
    "version": 3
   },
   "file_extension": ".py",
   "mimetype": "text/x-python",
   "name": "python",
   "nbconvert_exporter": "python",
   "pygments_lexer": "ipython3",
   "version": "3.9.1"
  }
 },
 "nbformat": 4,
 "nbformat_minor": 5
}
